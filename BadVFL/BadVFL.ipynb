{
 "cells": [
  {
   "cell_type": "markdown",
   "id": "2cad7d77-be7e-4747-9193-08d072faf11d",
   "metadata": {},
   "source": [
    "# BADVFL"
   ]
  },
  {
   "cell_type": "code",
   "execution_count": 1,
   "id": "83cbf4cd-b7a5-491c-8639-e81855c93841",
   "metadata": {},
   "outputs": [
    {
     "name": "stdout",
     "output_type": "stream",
     "text": [
      "Running on cuda.\n"
     ]
    }
   ],
   "source": [
    "# Importing essential libraries and modules for deep learning and visualization\n",
    "import torch\n",
    "import torchvision\n",
    "import torchvision.transforms as transforms\n",
    "import torch.nn as nn\n",
    "import torch.nn.functional as F\n",
    "import torch.optim as optim\n",
    "\n",
    "import numpy as np\n",
    "import matplotlib.pyplot as plt\n",
    "from torchinfo import summary\n",
    "from tqdm.notebook import tqdm\n",
    "from torch.utils.data import TensorDataset\n",
    "\n",
    "from sklearn.metrics import classification_report, confusion_matrix\n",
    "\n",
    "device = torch.device(\"cuda\" if torch.cuda.is_available() else \"cpu\")\n",
    "print(f\"Running on {device}.\")"
   ]
  },
  {
   "cell_type": "code",
   "execution_count": 2,
   "id": "1cb0a4d9-09d6-4484-a4f5-0982291a5545",
   "metadata": {},
   "outputs": [],
   "source": [
    "# Fashion_MNIST\n",
    "fashion_labels = [\"T-shirt/top\",\"Trouser\",\"Pullover\",\"Dress\",\"Coat\",\"Sandal\",\"Shirt\",\"Sneaker\",\"Bag\",\"Ankle boot\"]"
   ]
  },
  {
   "cell_type": "code",
   "execution_count": 3,
   "id": "ae97a385-4c15-495a-afab-15456e7d0c20",
   "metadata": {},
   "outputs": [
    {
     "name": "stdout",
     "output_type": "stream",
     "text": [
      "Train torch.Size([60000, 28, 28]) torch.Size([60000])\n",
      "Train torch.Size([10000, 28, 28]) torch.Size([10000])\n",
      "Trainset: 59900\n",
      "Testset: 10000\n",
      "Auxset: 100\n"
     ]
    }
   ],
   "source": [
    "transform = transforms.Compose([transforms.ToTensor()])\n",
    "trainset = torchvision.datasets.FashionMNIST(root='../data', train=True, download=True, transform=transform)\n",
    "testset = torchvision.datasets.FashionMNIST(root='../data', train=False, download=True, transform=transform)\n",
    "print(\"Train\",trainset.data.shape,trainset.targets.shape)\n",
    "print(\"Train\",testset.data.shape,testset.targets.shape)\n",
    "\n",
    "# Split of a little bit from the training data as the auxiliary dataset\n",
    "\n",
    "aux_dataset_size = 100\n",
    "\n",
    "auxset,trainset = torch.utils.data.random_split(trainset,(aux_dataset_size,len(trainset)-aux_dataset_size))\n",
    "\n",
    "print(\"Trainset:\",len(trainset))\n",
    "print(\"Testset:\",len(testset))\n",
    "print(\"Auxset:\",len(auxset))"
   ]
  },
  {
   "cell_type": "code",
   "execution_count": 4,
   "id": "dd055ef2-c5ff-42b6-a581-1ce0d9c51b80",
   "metadata": {},
   "outputs": [],
   "source": [
    "def split_data(dataset,K,axis):\n",
    "    data = [ [] for _ in range(K) ]\n",
    "    labels = [ [] for _ in range(K)]\n",
    "    for i in range(len(dataset)):\n",
    "        image,label = dataset[i]\n",
    "        image = image[0]\n",
    "        #print(image.shape)\n",
    "        splits = torch.tensor_split(image,K,dim=axis)\n",
    "        for i,s in enumerate(splits):\n",
    "            data[i].append(s)\n",
    "            labels[i].append(label)\n",
    "        \n",
    "    X = [\n",
    "        torch.as_tensor(np.array(x)) for x in data\n",
    "    ]\n",
    "    Y = [\n",
    "        torch.as_tensor(np.array(y)) for y in labels\n",
    "    ]\n",
    "    datasets = [\n",
    "        TensorDataset(x,y) for x,y in zip(X,Y)\n",
    "    ]\n",
    "    return datasets\n",
    "    \n",
    "        \n",
    "    \n"
   ]
  },
  {
   "cell_type": "code",
   "execution_count": 5,
   "id": "a71e299e-3617-4b57-8aef-b56e197ffd7e",
   "metadata": {},
   "outputs": [],
   "source": [
    "import random\n",
    "def test(K,axis):\n",
    "    datasets = split_data(trainset,K,axis)\n",
    "    rand_idx = random.randrange(0,len(datasets[0]))\n",
    "    print(\"#Datasets:\",len(datasets))\n",
    "    images = [\n",
    "        datasets[i][rand_idx][0] for i in range(K)\n",
    "    ]\n",
    "    print(fashion_labels[datasets[0][rand_idx][1]])\n",
    "\n",
    "    for im in images:\n",
    "        print(im.shape,end=\",\")\n",
    "        plt.imshow(im, cmap=\"gray\")\n",
    "        plt.show()\n",
    "    if axis == 1:\n",
    "        full_image = torch.hstack(images)\n",
    "    elif axis == 0:\n",
    "        full_image = torch.vstack(images)\n",
    "    print(\"Full image shape:\",full_image.shape)\n",
    "\n",
    "\n",
    "    plt.imshow(full_image, cmap=\"gray\")\n",
    "    plt.show()"
   ]
  },
  {
   "cell_type": "code",
   "execution_count": 6,
   "id": "ede33a9e-e9da-404c-a115-5030f66dcf25",
   "metadata": {},
   "outputs": [
    {
     "name": "stdout",
     "output_type": "stream",
     "text": [
      "#Datasets: 4\n",
      "T-shirt/top\n",
      "torch.Size([7, 28]),"
     ]
    },
    {
     "data": {
      "image/png": "[encoded data removed]",
      "text/plain": [
       "<Figure size 640x480 with 1 Axes>"
      ]
     },
     "metadata": {},
     "output_type": "display_data"
    },
    {
     "name": "stdout",
     "output_type": "stream",
     "text": [
      "torch.Size([7, 28]),"
     ]
    },
    {
     "data": {
      "image/png": "[encoded data removed]",
      "text/plain": [
       "<Figure size 640x480 with 1 Axes>"
      ]
     },
     "metadata": {},
     "output_type": "display_data"
    },
    {
     "name": "stdout",
     "output_type": "stream",
     "text": [
      "torch.Size([7, 28]),"
     ]
    },
    {
     "data": {
      "image/png": "[encoded data removed]",
      "text/plain": [
       "<Figure size 640x480 with 1 Axes>"
      ]
     },
     "metadata": {},
     "output_type": "display_data"
    },
    {
     "name": "stdout",
     "output_type": "stream",
     "text": [
      "torch.Size([7, 28]),"
     ]
    },
    {
     "data": {
      "image/png": "[encoded data removed]",
      "text/plain": [
       "<Figure size 640x480 with 1 Axes>"
      ]
     },
     "metadata": {},
     "output_type": "display_data"
    },
    {
     "name": "stdout",
     "output_type": "stream",
     "text": [
      "Full image shape: torch.Size([28, 28])\n"
     ]
    },
    {
     "data": {
      "image/png": "[encoded data removed]",
      "text/plain": [
       "<Figure size 640x480 with 1 Axes>"
      ]
     },
     "metadata": {},
     "output_type": "display_data"
    }
   ],
   "source": [
    "test(4,0)"
   ]
  },
  {
   "cell_type": "code",
   "execution_count": 7,
   "id": "7ce963b4-5cb8-4e23-987f-c86f55845d7e",
   "metadata": {},
   "outputs": [
    {
     "name": "stdout",
     "output_type": "stream",
     "text": [
      "#Datasets: 3\n",
      "Sandal\n",
      "torch.Size([28, 10]),"
     ]
    },
    {
     "data": {
      "image/png": "[encoded data removed]",
      "text/plain": [
       "<Figure size 640x480 with 1 Axes>"
      ]
     },
     "metadata": {},
     "output_type": "display_data"
    },
    {
     "name": "stdout",
     "output_type": "stream",
     "text": [
      "torch.Size([28, 9]),"
     ]
    },
    {
     "data": {
      "image/png": "[encoded data removed]",
      "text/plain": [
       "<Figure size 640x480 with 1 Axes>"
      ]
     },
     "metadata": {},
     "output_type": "display_data"
    },
    {
     "name": "stdout",
     "output_type": "stream",
     "text": [
      "torch.Size([28, 9]),"
     ]
    },
    {
     "data": {
      "image/png": "[encoded data removed]",
      "text/plain": [
       "<Figure size 640x480 with 1 Axes>"
      ]
     },
     "metadata": {},
     "output_type": "display_data"
    },
    {
     "name": "stdout",
     "output_type": "stream",
     "text": [
      "Full image shape: torch.Size([28, 28])\n"
     ]
    },
    {
     "data": {
      "image/png": "[encoded data removed]",
      "text/plain": [
       "<Figure size 640x480 with 1 Axes>"
      ]
     },
     "metadata": {},
     "output_type": "display_data"
    }
   ],
   "source": [
    "test(3,1)"
   ]
  },
  {
   "cell_type": "markdown",
   "id": "6d915c17-c5df-4b97-a8f3-9b965769ed8c",
   "metadata": {},
   "source": [
    "## Setup VFL"
   ]
  },
  {
   "cell_type": "code",
   "execution_count": 8,
   "id": "36fcb97d-0129-47cc-b361-288a3a7f331d",
   "metadata": {},
   "outputs": [],
   "source": [
    "class Client():\n",
    "    def __init__(self,traindata,testdata,model):\n",
    "        self.training_data = traindata\n",
    "        self.test_data = testdata\n",
    "        self.model = model\n",
    "        self.optimizer = torch.optim.Adam(self.model.parameters(),lr=0.001)\n",
    "        \n",
    "    def forward_pass(self,indices, train = True):\n",
    "        if train:\n",
    "            data = self.training_data[indices][0]\n",
    "            self.model.train()\n",
    "        else:\n",
    "            data = self.test_data[indices][0]\n",
    "            self.model.eval()\n",
    "        data = data.unsqueeze(1)\n",
    "        data = data.to(device)\n",
    "\n",
    "        return self.model(data)\n",
    "\n",
    "    def zero_grad(self):\n",
    "        self.optimizer.zero_grad()\n",
    "    \n",
    "    def __repr__(self):\n",
    "        return f\"Client with {len(self.training_data)} training images and {len(self.test_data)} test images of shape {self.training_data[0][0].shape}\""
   ]
  },
  {
   "cell_type": "code",
   "execution_count": 9,
   "id": "5e515ee9-3dc4-44dc-a923-4a6d43664330",
   "metadata": {},
   "outputs": [],
   "source": [
    "class Server():\n",
    "    def __init__(self,trainlabels,testlabels,model, clients,train_batch_size = 64, test_batch_size = 64):\n",
    "        self.trainlabels = trainlabels\n",
    "        self.testlabels = testlabels\n",
    "        self.model = model\n",
    "        self.train_batch_size = train_batch_size\n",
    "        self.test_batch_size = test_batch_size\n",
    "        self.clients = clients\n",
    "        self.optimizer = torch.optim.Adam(self.model.parameters(),lr=0.001)\n",
    "        self.loss_function = nn.CrossEntropyLoss()\n",
    "        \n",
    "    def forward(self,indices, train=True):\n",
    "        embeddings = [\n",
    "            c.forward_pass(indices,train=train) for c in clients\n",
    "        ]\n",
    "        concat = torch.hstack(embeddings) # Concat feature vectors that are the output from the clients\n",
    "\n",
    "        return self.model(concat)\n",
    "\n",
    "    def train_epoch(self,):\n",
    "        self.model.train()\n",
    "        dataset_size = self.trainlabels.size()[0]\n",
    "        permutation = torch.randperm(dataset_size)\n",
    "        for i in tqdm(range(0,dataset_size,self.train_batch_size)):\n",
    "            self.optimizer.zero_grad()\n",
    "            for c in clients:\n",
    "                c.zero_grad()\n",
    "            indices = permutation[i:i+self.train_batch_size]\n",
    "            correct_labels = self.trainlabels[indices].to(device)\n",
    "            prediction = self.forward(indices,train=True)\n",
    "            loss = self.loss_function(prediction,correct_labels)\n",
    "            loss.backward()\n",
    "            self.optimizer.step()\n",
    "            for c in clients:\n",
    "                c.optimizer.step()\n",
    "    def eval(self):\n",
    "        # Lists to store all predictions and true labels\n",
    "        all_preds = []\n",
    "        all_labels = []\n",
    "        dataset_size = self.testlabels.size()[0]\n",
    "        self.model.eval()\n",
    "        permutation = range(0,dataset_size)\n",
    "        for i in range(0,dataset_size,self.test_batch_size):\n",
    "            indices = permutation[i:i+self.train_batch_size]\n",
    "            correct_labels = self.testlabels[indices]\n",
    "            outputs = self.forward(indices,train=False)\n",
    "            _, predicted = torch.max(outputs, 1)\n",
    "            all_preds.extend(predicted.cpu().numpy())\n",
    "            all_labels.extend(correct_labels.cpu().numpy())\n",
    "        print(classification_report(all_labels, all_preds, target_names=fashion_labels))\n",
    "        \n",
    "    def __repr__(self):\n",
    "        return f\"Server with {len(self.trainlabels)} training labels and {len(self.testlabels)} test labels and {len(self.clients)} clients.\""
   ]
  },
  {
   "cell_type": "code",
   "execution_count": 10,
   "id": "de31542c-3b8e-4cf5-9d0b-1b8a67cf7b1e",
   "metadata": {},
   "outputs": [],
   "source": [
    "class FFClientModel(nn.Module):\n",
    "    def __init__(self,input_size):\n",
    "        super(FFClientModel, self).__init__()\n",
    "        self.input_size = input_size\n",
    "        print(input_size)\n",
    "        self.fc1 = nn.Linear(self.input_size,512)\n",
    "        self.fc2 = nn.Linear(512,256)\n",
    "        self.fc3 = nn.Linear(256,128)\n",
    "    def forward(self,x):\n",
    "        x = x.view(-1, self.input_size)\n",
    "        x = F.relu(self.fc1(x))\n",
    "        x = F.relu(self.fc2(x))\n",
    "        x = F.relu(self.fc3(x))\n",
    "        return x\n",
    "\n",
    "class ClientModel(nn.Module):\n",
    "    def __init__(self):\n",
    "        super(ClientModel, self).__init__()\n",
    "        self.conv1 = nn.Conv2d(1, 32, 3) \n",
    "        self.conv2 = nn.Conv2d(32, 64, 3)\n",
    "\n",
    "        self.fc1 = nn.Linear(640, 128) \n",
    "\n",
    "    def forward(self, x):\n",
    "        x = F.relu(self.conv1(x))\n",
    "        x = F.max_pool2d(x, 2)\n",
    "        x = F.relu(self.conv2(x))\n",
    "        x = F.max_pool2d(x, 2)\n",
    "        x = x.view(-1, 640)\n",
    "        x = F.relu(self.fc1(x))\n",
    "        return x\n",
    "    "
   ]
  },
  {
   "cell_type": "code",
   "execution_count": 11,
   "id": "8978eeb6-9f52-4873-9755-be1c1eebba0d",
   "metadata": {},
   "outputs": [],
   "source": [
    "class GlobalModel(nn.Module):\n",
    "    def __init__(self,num_clients):\n",
    "        super(GlobalModel, self).__init__()\n",
    "        self.fc1 = nn.Linear(num_clients * 128, 128)  # Client model has 128 output features, 128*#clients must match the input for the global model\n",
    "        self.fc2 = nn.Linear(128, 64)\n",
    "        self.fc3 = nn.Linear(64, 10)\n",
    "\n",
    "    def forward(self, x):\n",
    "        x = F.relu(self.fc1(x))\n",
    "        x = F.relu(self.fc2(x)) \n",
    "        x = self.fc3(x)\n",
    "\n",
    "        return F.log_softmax(x, dim=1)"
   ]
  },
  {
   "cell_type": "code",
   "execution_count": 12,
   "id": "46ea36a5-25b8-4fa2-9613-9b39012b107c",
   "metadata": {},
   "outputs": [],
   "source": [
    "num_clients = 4\n",
    "train_datasets = split_data(trainset,num_clients,0)\n",
    "test_datasets = split_data(testset,num_clients,0)"
   ]
  },
  {
   "cell_type": "code",
   "execution_count": 13,
   "id": "439bb914-0463-433d-9007-7de8911920f2",
   "metadata": {},
   "outputs": [
    {
     "name": "stdout",
     "output_type": "stream",
     "text": [
      "196\n"
     ]
    }
   ],
   "source": [
    "ds = train_datasets[0]\n",
    "size = ds[0][0].shape.numel()\n",
    "print(size)"
   ]
  },
  {
   "cell_type": "code",
   "execution_count": 14,
   "id": "d7a73383-c246-4c18-8f35-c018b212a983",
   "metadata": {},
   "outputs": [
    {
     "name": "stdout",
     "output_type": "stream",
     "text": [
      "196\n",
      "196\n",
      "196\n",
      "196\n",
      "Client with 59900 training images and 10000 test images of shape torch.Size([7, 28])\n",
      "Client with 59900 training images and 10000 test images of shape torch.Size([7, 28])\n",
      "Client with 59900 training images and 10000 test images of shape torch.Size([7, 28])\n",
      "Client with 59900 training images and 10000 test images of shape torch.Size([7, 28])\n",
      "Server with 59900 training labels and 10000 test labels and 4 clients.\n"
     ]
    }
   ],
   "source": [
    "clients = [\n",
    "    Client(train,test,FFClientModel(train[0][0].shape.numel()).to(device)) for train,test in zip(train_datasets,test_datasets)\n",
    "]\n",
    "for c in clients:\n",
    "    print(c)\n",
    "server = Server(train_datasets[0][:][1],test_datasets[0][:][1],GlobalModel(len(clients)).to(device), clients)\n",
    "print(server)"
   ]
  },
  {
   "cell_type": "code",
   "execution_count": 15,
   "id": "c9753f3d-c58f-4e40-8df5-23d08ee7cb35",
   "metadata": {},
   "outputs": [
    {
     "name": "stdout",
     "output_type": "stream",
     "text": [
      "Epoch 0\n"
     ]
    },
    {
     "data": {
      "application/vnd.jupyter.widget-view+json": {
       "model_id": "d44ba2e2d2f9434fb3df2c758df766e4",
       "version_major": 2,
       "version_minor": 0
      },
      "text/plain": [
       "  0%|          | 0/936 [00:00<?, ?it/s]"
      ]
     },
     "metadata": {},
     "output_type": "display_data"
    },
    {
     "name": "stdout",
     "output_type": "stream",
     "text": [
      "Epoch 1\n"
     ]
    },
    {
     "data": {
      "application/vnd.jupyter.widget-view+json": {
       "model_id": "d3011851429c4bb8bb53e9fbdf04f9ab",
       "version_major": 2,
       "version_minor": 0
      },
      "text/plain": [
       "  0%|          | 0/936 [00:00<?, ?it/s]"
      ]
     },
     "metadata": {},
     "output_type": "display_data"
    },
    {
     "name": "stdout",
     "output_type": "stream",
     "text": [
      "Epoch 2\n"
     ]
    },
    {
     "data": {
      "application/vnd.jupyter.widget-view+json": {
       "model_id": "dfa9f17033094c8385986fd80d1ce541",
       "version_major": 2,
       "version_minor": 0
      },
      "text/plain": [
       "  0%|          | 0/936 [00:00<?, ?it/s]"
      ]
     },
     "metadata": {},
     "output_type": "display_data"
    },
    {
     "name": "stdout",
     "output_type": "stream",
     "text": [
      "Epoch 3\n"
     ]
    },
    {
     "data": {
      "application/vnd.jupyter.widget-view+json": {
       "model_id": "94b74a2105354b5e8465558234db562d",
       "version_major": 2,
       "version_minor": 0
      },
      "text/plain": [
       "  0%|          | 0/936 [00:00<?, ?it/s]"
      ]
     },
     "metadata": {},
     "output_type": "display_data"
    },
    {
     "name": "stdout",
     "output_type": "stream",
     "text": [
      "Epoch 4\n"
     ]
    },
    {
     "data": {
      "application/vnd.jupyter.widget-view+json": {
       "model_id": "cbfbf6234af446b2a08a3f407d94c937",
       "version_major": 2,
       "version_minor": 0
      },
      "text/plain": [
       "  0%|          | 0/936 [00:00<?, ?it/s]"
      ]
     },
     "metadata": {},
     "output_type": "display_data"
    },
    {
     "name": "stdout",
     "output_type": "stream",
     "text": [
      "Epoch 5\n"
     ]
    },
    {
     "data": {
      "application/vnd.jupyter.widget-view+json": {
       "model_id": "833ef6477e044bd191975237a4d4f052",
       "version_major": 2,
       "version_minor": 0
      },
      "text/plain": [
       "  0%|          | 0/936 [00:00<?, ?it/s]"
      ]
     },
     "metadata": {},
     "output_type": "display_data"
    },
    {
     "name": "stdout",
     "output_type": "stream",
     "text": [
      "Epoch 6\n"
     ]
    },
    {
     "data": {
      "application/vnd.jupyter.widget-view+json": {
       "model_id": "d1194e8f9d804cb29b7acb6ee712ea20",
       "version_major": 2,
       "version_minor": 0
      },
      "text/plain": [
       "  0%|          | 0/936 [00:00<?, ?it/s]"
      ]
     },
     "metadata": {},
     "output_type": "display_data"
    },
    {
     "name": "stdout",
     "output_type": "stream",
     "text": [
      "Epoch 7\n"
     ]
    },
    {
     "data": {
      "application/vnd.jupyter.widget-view+json": {
       "model_id": "59c009e36b8144feaebaf1b3a279d3a7",
       "version_major": 2,
       "version_minor": 0
      },
      "text/plain": [
       "  0%|          | 0/936 [00:00<?, ?it/s]"
      ]
     },
     "metadata": {},
     "output_type": "display_data"
    },
    {
     "name": "stdout",
     "output_type": "stream",
     "text": [
      "Epoch 8\n"
     ]
    },
    {
     "data": {
      "application/vnd.jupyter.widget-view+json": {
       "model_id": "d4aaf5cbe46b438f9a1656f511f8c825",
       "version_major": 2,
       "version_minor": 0
      },
      "text/plain": [
       "  0%|          | 0/936 [00:00<?, ?it/s]"
      ]
     },
     "metadata": {},
     "output_type": "display_data"
    },
    {
     "name": "stdout",
     "output_type": "stream",
     "text": [
      "Epoch 9\n"
     ]
    },
    {
     "data": {
      "application/vnd.jupyter.widget-view+json": {
       "model_id": "7523b4a6621143aaba2c1e560a98512a",
       "version_major": 2,
       "version_minor": 0
      },
      "text/plain": [
       "  0%|          | 0/936 [00:00<?, ?it/s]"
      ]
     },
     "metadata": {},
     "output_type": "display_data"
    }
   ],
   "source": [
    "epochs = 10\n",
    "for i in range(epochs):\n",
    "    print(f\"Epoch {i}\")\n",
    "    server.train_epoch()"
   ]
  },
  {
   "cell_type": "code",
   "execution_count": 16,
   "id": "cb58c121-b3e2-4790-9872-3bae38d5bfac",
   "metadata": {},
   "outputs": [
    {
     "name": "stdout",
     "output_type": "stream",
     "text": [
      "              precision    recall  f1-score   support\n",
      "\n",
      " T-shirt/top       0.84      0.84      0.84      1000\n",
      "     Trouser       0.99      0.96      0.98      1000\n",
      "    Pullover       0.84      0.80      0.82      1000\n",
      "       Dress       0.87      0.90      0.89      1000\n",
      "        Coat       0.79      0.86      0.82      1000\n",
      "      Sandal       0.99      0.96      0.97      1000\n",
      "       Shirt       0.72      0.70      0.71      1000\n",
      "     Sneaker       0.92      0.98      0.95      1000\n",
      "         Bag       0.99      0.97      0.98      1000\n",
      "  Ankle boot       0.98      0.94      0.96      1000\n",
      "\n",
      "    accuracy                           0.89     10000\n",
      "   macro avg       0.89      0.89      0.89     10000\n",
      "weighted avg       0.89      0.89      0.89     10000\n",
      "\n"
     ]
    }
   ],
   "source": [
    "server.eval()"
   ]
  },
  {
   "cell_type": "code",
   "execution_count": null,
   "id": "1341c6a9-7cf4-4deb-87a1-ea24fcea2a2f",
   "metadata": {},
   "outputs": [],
   "source": [
    "class BadVFLClient(Client):\n",
    "    def __init__(self,traindata,testdata,aux_data,model):\n",
    "        self.training_data = traindata\n",
    "        self.test_data = testdata\n",
    "        self.model = model\n",
    "        self.optimizer = torch.optim.Adam(self.model.parameters(),lr=0.001)"
   ]
  },
  {
   "cell_type": "code",
   "execution_count": null,
   "id": "7e75cddf-b475-4035-b5b9-b918ebf5755a",
   "metadata": {},
   "outputs": [],
   "source": []
  }
 ],
 "metadata": {
  "kernelspec": {
   "display_name": "Python 3 (ipykernel)",
   "language": "python",
   "name": "python3"
  },
  "language_info": {
   "codemirror_mode": {
    "name": "ipython",
    "version": 3
   },
   "file_extension": ".py",
   "mimetype": "text/x-python",
   "name": "python",
   "nbconvert_exporter": "python",
   "pygments_lexer": "ipython3",
   "version": "3.12.2"
  }
 },
 "nbformat": 4,
 "nbformat_minor": 5
}
