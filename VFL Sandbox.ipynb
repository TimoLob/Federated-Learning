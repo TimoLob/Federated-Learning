{
 "cells": [
  {
   "cell_type": "markdown",
   "id": "a46736f1-67cf-4a18-972d-cf0987e05ec5",
   "metadata": {},
   "source": [
    "# Vertical Federated Learning"
   ]
  },
  {
   "cell_type": "code",
   "execution_count": 1,
   "id": "5ca90937-39dc-43bc-8249-9630eb061d9a",
   "metadata": {},
   "outputs": [
    {
     "name": "stdout",
     "output_type": "stream",
     "text": [
      "Running on cuda.\n"
     ]
    }
   ],
   "source": [
    "# Importing essential libraries and modules for deep learning and visualization\n",
    "import torch\n",
    "import torchvision\n",
    "import torchvision.transforms as transforms\n",
    "import torch.nn as nn\n",
    "import torch.nn.functional as F\n",
    "import torch.optim as optim\n",
    "\n",
    "import numpy as np\n",
    "import matplotlib.pyplot as plt\n",
    "from torchinfo import summary\n",
    "from tqdm.notebook import tqdm\n",
    "\n",
    "device = torch.device(\"cuda\" if torch.cuda.is_available() else \"cpu\")\n",
    "print(f\"Running on {device}.\")"
   ]
  },
  {
   "cell_type": "code",
   "execution_count": 4,
   "id": "16440e9b-28ba-4ea2-977c-de7fcc09a4f5",
   "metadata": {},
   "outputs": [],
   "source": [
    "# Fashion_MNIST\n",
    "fashion_labels = [\"T-shirt/top\",\"Trouser\",\"Pullover\",\"Dress\",\"Coat\",\"Sandal\",\"Shirt\",\"Sneaker\",\"Bag\",\"Ankle boot\"]"
   ]
  },
  {
   "cell_type": "code",
   "execution_count": 5,
   "id": "cbf337d1-07d8-4666-afe1-64cd5b93d729",
   "metadata": {},
   "outputs": [],
   "source": [
    "transform = transforms.Compose([transforms.ToTensor()])\n",
    "trainset = torchvision.datasets.FashionMNIST(root='./data', train=True, download=True, transform=transform)\n",
    "testset = torchvision.datasets.FashionMNIST(root='./data', train=False, download=True, transform=transform)"
   ]
  },
  {
   "cell_type": "markdown",
   "id": "c1c85af4-b2d3-4c29-a33f-61dc9383d9b1",
   "metadata": {},
   "source": [
    "## Centralized machine learning model as benchmark"
   ]
  },
  {
   "cell_type": "code",
   "execution_count": 157,
   "id": "b7efd1e5-532e-4c89-866e-935dfe3a0f72",
   "metadata": {},
   "outputs": [],
   "source": [
    "import torch.nn as nn\n",
    "import torch.nn.functional as F\n",
    "\n",
    "class BasicCNN(nn.Module):\n",
    "    def __init__(self):\n",
    "        super(BasicCNN, self).__init__()\n",
    "        # Input: [batch_size, 1, 28, 28]\n",
    "        self.conv1 = nn.Conv2d(1, 32, 3)  # Output: [batch_size, 32, 26, 26]\n",
    "        # Input: [batch_size, 32, 26, 26]\n",
    "        self.conv2 = nn.Conv2d(32, 64, 3) # Output: [batch_size, 64, 11, 11]\n",
    "        self.fc1 = nn.Linear(64 * 5 * 5, 128)  # Flattening: [batch_size, 64*5*5]\n",
    "        self.fc2 = nn.Linear(128, 10)\n",
    "\n",
    "    def forward(self, x):\n",
    "        # Input: [batch_size, 1, 28, 28]\n",
    "        x = F.relu(self.conv1(x))\n",
    "        # Shape: [batch_size, 32, 26, 26]\n",
    "        x = F.max_pool2d(x, 2)\n",
    "        # Shape: [batch_size, 32, 13, 13]\n",
    "        \n",
    "        x = F.relu(self.conv2(x))\n",
    "        # Shape: [batch_size, 64, 11, 11]\n",
    "        x = F.max_pool2d(x, 2)\n",
    "        # Shape: [batch_size, 64, 5, 5]\n",
    "        \n",
    "        x = x.view(-1, 64 * 5 * 5) # Flattening\n",
    "        x = F.relu(self.fc1(x))\n",
    "        x = self.fc2(x)\n",
    "        return F.log_softmax(x, dim=1)\n",
    "\n"
   ]
  },
  {
   "cell_type": "code",
   "execution_count": 148,
   "id": "e7b5e41d-48c8-49fe-95a6-5cd0a4258cfb",
   "metadata": {},
   "outputs": [
    {
     "data": {
      "text/plain": [
       "==========================================================================================\n",
       "Layer (type:depth-idx)                   Output Shape              Param #\n",
       "==========================================================================================\n",
       "BasicCNN                                 [64, 10]                  --\n",
       "├─Conv2d: 1-1                            [64, 32, 26, 26]          320\n",
       "├─Conv2d: 1-2                            [64, 64, 11, 11]          18,496\n",
       "├─Linear: 1-3                            [64, 128]                 204,928\n",
       "├─Linear: 1-4                            [64, 10]                  1,290\n",
       "==========================================================================================\n",
       "Total params: 225,034\n",
       "Trainable params: 225,034\n",
       "Non-trainable params: 0\n",
       "Total mult-adds (Units.MEGABYTES): 170.28\n",
       "==========================================================================================\n",
       "Input size (MB): 0.20\n",
       "Forward/backward pass size (MB): 15.11\n",
       "Params size (MB): 0.90\n",
       "Estimated Total Size (MB): 16.21\n",
       "=========================================================================================="
      ]
     },
     "execution_count": 148,
     "metadata": {},
     "output_type": "execute_result"
    }
   ],
   "source": [
    "optimizer = torch.optim.Adam(model.parameters(),lr=0.001)\n",
    "criterion = nn.CrossEntropyLoss()\n",
    "\n",
    "num_epochs = 5\n",
    "train_batch_size = 64\n",
    "test_batch_size = 64\n",
    "\n",
    "trainloader = torch.utils.data.DataLoader(trainset, batch_size=train_batch_size, shuffle=True, num_workers=2)\n",
    "testloader = torch.utils.data.DataLoader(testset, batch_size=test_batch_size, shuffle=False, num_workers=2)\n",
    "\n",
    "model = BasicCNN().to(device)\n",
    "summary(model, input_size=(train_batch_size, 1, 28, 28))"
   ]
  },
  {
   "cell_type": "code",
   "execution_count": 15,
   "id": "582f8176-32b2-42a1-bbe2-ad75d26f5b40",
   "metadata": {},
   "outputs": [
    {
     "name": "stdout",
     "output_type": "stream",
     "text": [
      "Epoch 1/5\n"
     ]
    },
    {
     "data": {
      "application/vnd.jupyter.widget-view+json": {
       "model_id": "61d5acc8a6bc433a8bcee50387beefda",
       "version_major": 2,
       "version_minor": 0
      },
      "text/plain": [
       "  0%|          | 0/938 [00:00<?, ?it/s]"
      ]
     },
     "metadata": {},
     "output_type": "display_data"
    },
    {
     "name": "stdout",
     "output_type": "stream",
     "text": [
      "Epoch 2/5\n"
     ]
    },
    {
     "data": {
      "application/vnd.jupyter.widget-view+json": {
       "model_id": "feeea8d3da68401691769c262c504406",
       "version_major": 2,
       "version_minor": 0
      },
      "text/plain": [
       "  0%|          | 0/938 [00:00<?, ?it/s]"
      ]
     },
     "metadata": {},
     "output_type": "display_data"
    },
    {
     "name": "stdout",
     "output_type": "stream",
     "text": [
      "Epoch 3/5\n"
     ]
    },
    {
     "data": {
      "application/vnd.jupyter.widget-view+json": {
       "model_id": "c805e8ddd7894b3abeb453f5b54fc507",
       "version_major": 2,
       "version_minor": 0
      },
      "text/plain": [
       "  0%|          | 0/938 [00:00<?, ?it/s]"
      ]
     },
     "metadata": {},
     "output_type": "display_data"
    },
    {
     "name": "stdout",
     "output_type": "stream",
     "text": [
      "Epoch 4/5\n"
     ]
    },
    {
     "data": {
      "application/vnd.jupyter.widget-view+json": {
       "model_id": "63beb8c6379f42f8a30e37fb50a1ebfc",
       "version_major": 2,
       "version_minor": 0
      },
      "text/plain": [
       "  0%|          | 0/938 [00:00<?, ?it/s]"
      ]
     },
     "metadata": {},
     "output_type": "display_data"
    },
    {
     "name": "stdout",
     "output_type": "stream",
     "text": [
      "Epoch 5/5\n"
     ]
    },
    {
     "data": {
      "application/vnd.jupyter.widget-view+json": {
       "model_id": "b5c84540b73c489f8335be4e8fc646fa",
       "version_major": 2,
       "version_minor": 0
      },
      "text/plain": [
       "  0%|          | 0/938 [00:00<?, ?it/s]"
      ]
     },
     "metadata": {},
     "output_type": "display_data"
    }
   ],
   "source": [
    "for epoch in range(num_epochs):\n",
    "    model.train()\n",
    "    print(f\"Epoch {epoch+1}/{num_epochs}\")\n",
    "    for images, labels in tqdm(trainloader):\n",
    "        images, labels = images.to(device), labels.to(device)\n",
    "        optimizer.zero_grad()\n",
    "        outputs = model(images)\n",
    "        loss = criterion(outputs,labels)\n",
    "        loss.backward()\n",
    "        optimizer.step()"
   ]
  },
  {
   "cell_type": "code",
   "execution_count": 12,
   "id": "c5e54d5b-c7a5-4bb1-a2d7-3e7f8c3b30f7",
   "metadata": {},
   "outputs": [
    {
     "name": "stdout",
     "output_type": "stream",
     "text": [
      "              precision    recall  f1-score   support\n",
      "\n",
      " T-shirt/top       0.86      0.86      0.86      1000\n",
      "     Trouser       0.99      0.98      0.98      1000\n",
      "    Pullover       0.88      0.87      0.87      1000\n",
      "       Dress       0.90      0.92      0.91      1000\n",
      "        Coat       0.87      0.86      0.87      1000\n",
      "      Sandal       0.98      0.98      0.98      1000\n",
      "       Shirt       0.74      0.74      0.74      1000\n",
      "     Sneaker       0.95      0.97      0.96      1000\n",
      "         Bag       0.98      0.98      0.98      1000\n",
      "  Ankle boot       0.97      0.96      0.97      1000\n",
      "\n",
      "    accuracy                           0.91     10000\n",
      "   macro avg       0.91      0.91      0.91     10000\n",
      "weighted avg       0.91      0.91      0.91     10000\n",
      "\n"
     ]
    }
   ],
   "source": [
    "model.eval()\n",
    "from sklearn.metrics import classification_report, confusion_matrix\n",
    "\n",
    "# Lists to store all predictions and true labels\n",
    "all_preds = []\n",
    "all_labels = []\n",
    "\n",
    "with torch.no_grad():\n",
    "    # Iterate over all batches in the test loader\n",
    "    for images, labels in testloader:\n",
    "        images, labels = images.to(device), labels.to(device)\n",
    "        \n",
    "        # Pass the images through the model to get predictions\n",
    "        outputs = model(images)\n",
    "        \n",
    "        # Get the class with the maximum probability as the predicted class\n",
    "        _, predicted = torch.max(outputs, 1)\n",
    "        \n",
    "        # Extend the all_preds list with predictions from this batch\n",
    "        all_preds.extend(predicted.cpu().numpy())\n",
    "        \n",
    "        # Extend the all_labels list with true labels from this batch\n",
    "        all_labels.extend(labels.cpu().numpy())\n",
    "\n",
    "# Print a classification report which provides an overview of the model's performance for each class\n",
    "print(classification_report(all_labels, all_preds, target_names=fashion_labels))\n"
   ]
  },
  {
   "cell_type": "code",
   "execution_count": 113,
   "id": "c572f93c-b5f5-4b4f-81f7-4752d4463a79",
   "metadata": {},
   "outputs": [],
   "source": [
    "class ClientModel(nn.Module):\n",
    "    def __init__(self):\n",
    "        super(ClientModel, self).__init__()\n",
    "        self.conv1 = nn.Conv2d(1, 32, 3) \n",
    "        self.conv2 = nn.Conv2d(32, 64, 3)\n",
    "\n",
    "        self.fc1 = nn.Linear(640, 128) \n",
    "\n",
    "    def forward(self, x):\n",
    "        x = F.relu(self.conv1(x))\n",
    "        x = F.max_pool2d(x, 2)\n",
    "        x = F.relu(self.conv2(x))\n",
    "        x = F.max_pool2d(x, 2)\n",
    "        x = x.view(-1, 640)\n",
    "        x = F.relu(self.fc1(x))\n",
    "        return x\n"
   ]
  },
  {
   "cell_type": "code",
   "execution_count": 114,
   "id": "9e84fcba-f61e-4ffa-9bb0-c23dc8d3898e",
   "metadata": {},
   "outputs": [],
   "source": [
    "class GlobalModel(nn.Module):\n",
    "    def __init__(self):\n",
    "        super(GlobalModel, self).__init__()\n",
    "        self.fc1 = nn.Linear(256, 128)  \n",
    "        self.fc2 = nn.Linear(128, 64)\n",
    "        self.fc3 = nn.Linear(64, 10)\n",
    "\n",
    "    def forward(self, x):\n",
    "        x = F.relu(self.fc1(x))\n",
    "        x = F.relu(self.fc2(x)) \n",
    "        x = self.fc3(x)\n",
    "\n",
    "        return F.log_softmax(x, dim=1)"
   ]
  },
  {
   "cell_type": "code",
   "execution_count": 115,
   "id": "fdda4a8d-aa0c-4f8a-ae68-50637d68e8b2",
   "metadata": {
    "scrolled": true
   },
   "outputs": [
    {
     "data": {
      "text/plain": [
       "==========================================================================================\n",
       "Layer (type:depth-idx)                   Output Shape              Param #\n",
       "==========================================================================================\n",
       "ClientModel                              [64, 128]                 --\n",
       "├─Conv2d: 1-1                            [64, 32, 12, 26]          320\n",
       "├─Conv2d: 1-2                            [64, 64, 4, 11]           18,496\n",
       "├─Linear: 1-3                            [64, 128]                 82,048\n",
       "==========================================================================================\n",
       "Total params: 100,864\n",
       "Trainable params: 100,864\n",
       "Non-trainable params: 0\n",
       "Total mult-adds (Units.MEGABYTES): 63.73\n",
       "==========================================================================================\n",
       "Input size (MB): 0.10\n",
       "Forward/backward pass size (MB): 6.62\n",
       "Params size (MB): 0.40\n",
       "Estimated Total Size (MB): 7.12\n",
       "=========================================================================================="
      ]
     },
     "execution_count": 115,
     "metadata": {},
     "output_type": "execute_result"
    }
   ],
   "source": [
    "c_model = ClientModel()\n",
    "summary(c_model, input_size=(train_batch_size, 1, 14, 28))"
   ]
  },
  {
   "cell_type": "code",
   "execution_count": 116,
   "id": "d4e36eb0-a5e6-4d7b-806c-48608e0e4001",
   "metadata": {},
   "outputs": [
    {
     "data": {
      "text/plain": [
       "==========================================================================================\n",
       "Layer (type:depth-idx)                   Output Shape              Param #\n",
       "==========================================================================================\n",
       "GlobalModel                              [64, 10]                  --\n",
       "├─Linear: 1-1                            [64, 128]                 32,896\n",
       "├─Linear: 1-2                            [64, 64]                  8,256\n",
       "├─Linear: 1-3                            [64, 10]                  650\n",
       "==========================================================================================\n",
       "Total params: 41,802\n",
       "Trainable params: 41,802\n",
       "Non-trainable params: 0\n",
       "Total mult-adds (Units.MEGABYTES): 2.68\n",
       "==========================================================================================\n",
       "Input size (MB): 0.07\n",
       "Forward/backward pass size (MB): 0.10\n",
       "Params size (MB): 0.17\n",
       "Estimated Total Size (MB): 0.34\n",
       "=========================================================================================="
      ]
     },
     "execution_count": 116,
     "metadata": {},
     "output_type": "execute_result"
    }
   ],
   "source": [
    "g_model = GlobalModel()\n",
    "summary(g_model, input_size=(train_batch_size, 256))"
   ]
  },
  {
   "cell_type": "code",
   "execution_count": 162,
   "id": "9e1a5362-5713-4183-8314-186a8394d84a",
   "metadata": {},
   "outputs": [
    {
     "name": "stdout",
     "output_type": "stream",
     "text": [
      "torch.Size([64, 1, 28, 28]) torch.Size([64])\n",
      "torch.Size([64, 1, 14, 28])\n",
      "torch.Size([64, 1, 14, 28])\n"
     ]
    },
    {
     "data": {
      "image/png": "[encoded data removed]",
      "text/plain": [
       "<Figure size 640x480 with 1 Axes>"
      ]
     },
     "metadata": {},
     "output_type": "display_data"
    },
    {
     "data": {
      "image/png": "[encoded data removed]",
      "text/plain": [
       "<Figure size 640x480 with 1 Axes>"
      ]
     },
     "metadata": {},
     "output_type": "display_data"
    },
    {
     "name": "stdout",
     "output_type": "stream",
     "text": [
      "Sneaker\n"
     ]
    }
   ],
   "source": [
    "# Get input size of batch\n",
    "datatype = trainloader.dataset.data.dtype\n",
    "\n",
    "for X, y in trainloader:\n",
    "    print(X.shape, y.shape)\n",
    "    X_c1 = X[:,:,:14,:]\n",
    "    X_c2 = X[:,:,14:,:]\n",
    "    print(X_c1.shape)\n",
    "    print(X_c2.shape)\n",
    "    img = X_c1[0][0]\n",
    "    plt.imshow(img, cmap=\"gray\")\n",
    "    plt.show()\n",
    "    img = X_c2[0][0]\n",
    "    plt.imshow(img, cmap=\"gray\")\n",
    "    plt.show()\n",
    "    print(fashion_labels[y[0]])\n",
    "    break"
   ]
  },
  {
   "cell_type": "code",
   "execution_count": 163,
   "id": "f4395c7d-ac29-44c4-9bd1-28c82aca08a6",
   "metadata": {},
   "outputs": [],
   "source": [
    "class Client:\n",
    "    def __init__(self,LocalModel):\n",
    "        \"\"\"\n",
    "        Parameters: LocalModel (class)\n",
    "        \"\"\"\n",
    "        self.local_model = LocalModel().to(device)\n",
    "    def forward(self,data):\n",
    "        data = data.to(device)\n",
    "        features = self.local_model(data)\n",
    "        return features\n",
    "\n",
    "\n",
    "\n",
    "class Server:\n",
    "    def __init__(self,GlobalModel):\n",
    "        self.global_model = GlobalModel().to(device)\n",
    "\n",
    "    def forward(self,X,y):\n",
    "        return self.global_model(concat)"
   ]
  },
  {
   "cell_type": "code",
   "execution_count": 164,
   "id": "859b9292-70ca-4c64-91f7-f0143f454d9f",
   "metadata": {},
   "outputs": [],
   "source": [
    "s = Server(GlobalModel)\n",
    "c1 = Client(ClientModel)\n",
    "c2 = Client(ClientModel)"
   ]
  },
  {
   "cell_type": "code",
   "execution_count": 165,
   "id": "3648c0b7-3054-4a8c-ae4d-ba37f712926f",
   "metadata": {},
   "outputs": [
    {
     "name": "stdout",
     "output_type": "stream",
     "text": [
      "Epoch 1/5\n"
     ]
    },
    {
     "data": {
      "application/vnd.jupyter.widget-view+json": {
       "model_id": "cb3cccf18eb042d295eab5a2398228bf",
       "version_major": 2,
       "version_minor": 0
      },
      "text/plain": [
       "  0%|          | 0/938 [00:00<?, ?it/s]"
      ]
     },
     "metadata": {},
     "output_type": "display_data"
    },
    {
     "name": "stdout",
     "output_type": "stream",
     "text": [
      "Epoch 2/5\n"
     ]
    },
    {
     "data": {
      "application/vnd.jupyter.widget-view+json": {
       "model_id": "c62abbafa8c440cfb01b3375fd4bb888",
       "version_major": 2,
       "version_minor": 0
      },
      "text/plain": [
       "  0%|          | 0/938 [00:00<?, ?it/s]"
      ]
     },
     "metadata": {},
     "output_type": "display_data"
    },
    {
     "name": "stdout",
     "output_type": "stream",
     "text": [
      "Epoch 3/5\n"
     ]
    },
    {
     "data": {
      "application/vnd.jupyter.widget-view+json": {
       "model_id": "88ef08fcee9943b48261a6cc91e2c34d",
       "version_major": 2,
       "version_minor": 0
      },
      "text/plain": [
       "  0%|          | 0/938 [00:00<?, ?it/s]"
      ]
     },
     "metadata": {},
     "output_type": "display_data"
    },
    {
     "name": "stdout",
     "output_type": "stream",
     "text": [
      "Epoch 4/5\n"
     ]
    },
    {
     "data": {
      "application/vnd.jupyter.widget-view+json": {
       "model_id": "d3cca5806b5e47e6aecf22b5c31d3968",
       "version_major": 2,
       "version_minor": 0
      },
      "text/plain": [
       "  0%|          | 0/938 [00:00<?, ?it/s]"
      ]
     },
     "metadata": {},
     "output_type": "display_data"
    },
    {
     "name": "stdout",
     "output_type": "stream",
     "text": [
      "Epoch 5/5\n"
     ]
    },
    {
     "data": {
      "application/vnd.jupyter.widget-view+json": {
       "model_id": "98dbe4f95640409fa1b1a3e8aa814ec3",
       "version_major": 2,
       "version_minor": 0
      },
      "text/plain": [
       "  0%|          | 0/938 [00:00<?, ?it/s]"
      ]
     },
     "metadata": {},
     "output_type": "display_data"
    }
   ],
   "source": [
    "optimizer_server = torch.optim.Adam(s.global_model.parameters(),lr=0.001)\n",
    "optimizer_client1 = torch.optim.Adam(c1.local_model.parameters(),lr=0.001)\n",
    "optimizer_client2 = torch.optim.Adam(c2.local_model.parameters(),lr=0.001)\n",
    "\n",
    "criterion = nn.CrossEntropyLoss()\n",
    "\n",
    "num_epochs = 5\n",
    "\n",
    "for epoch in range(num_epochs):\n",
    "    print(f\"Epoch {epoch+1}/{num_epochs}\")\n",
    "    s.global_model.train()\n",
    "    c1.local_model.train()\n",
    "    c2.local_model.train()\n",
    "\n",
    "    for X, y in tqdm(trainloader):\n",
    "        y = y.to(device)\n",
    "        # Split images in top and bottom half\n",
    "        X_c1 = X[:,:,:14,:]\n",
    "        X_c2 = X[:,:,14:,:]\n",
    "        # Set optimizers to 0\n",
    "        optimizer_server.zero_grad()\n",
    "        optimizer_client1.zero_grad()\n",
    "        optimizer_client2.zero_grad()\n",
    "    \n",
    "        # Forward pass\n",
    "        features = [\n",
    "            c1.forward(X_c1), # First client has top half of image\n",
    "            c2.forward(X_c2)  # Second client has the bottom half\n",
    "        ]\n",
    "        \n",
    "        concat = torch.hstack(features) # Concat feature vectors that are the output from the clients\n",
    "        predictions = s.forward(concat,y) # Feed them into the global model\n",
    "    \n",
    "        loss = criterion(predictions,y)\n",
    "        loss.backward()\n",
    "    \n",
    "        optimizer_server.step()\n",
    "        optimizer_client1.step()\n",
    "        optimizer_client2.step()\n",
    "    \n",
    "        "
   ]
  },
  {
   "cell_type": "code",
   "execution_count": 166,
   "id": "ecc53e50-e007-4b08-822f-edc6ad7c5e9b",
   "metadata": {},
   "outputs": [
    {
     "name": "stdout",
     "output_type": "stream",
     "text": [
      "              precision    recall  f1-score   support\n",
      "\n",
      " T-shirt/top       0.84      0.87      0.86      1000\n",
      "     Trouser       0.99      0.97      0.98      1000\n",
      "    Pullover       0.91      0.81      0.86      1000\n",
      "       Dress       0.86      0.92      0.89      1000\n",
      "        Coat       0.80      0.90      0.84      1000\n",
      "      Sandal       0.94      0.99      0.97      1000\n",
      "       Shirt       0.76      0.68      0.72      1000\n",
      "     Sneaker       0.95      0.93      0.94      1000\n",
      "         Bag       0.98      0.97      0.98      1000\n",
      "  Ankle boot       0.98      0.95      0.96      1000\n",
      "\n",
      "    accuracy                           0.90     10000\n",
      "   macro avg       0.90      0.90      0.90     10000\n",
      "weighted avg       0.90      0.90      0.90     10000\n",
      "\n"
     ]
    }
   ],
   "source": [
    "s.global_model.eval()\n",
    "c1.local_model.eval()\n",
    "c2.local_model.eval()\n",
    "\n",
    "# Lists to store all predictions and true labels\n",
    "all_preds = []\n",
    "all_labels = []\n",
    "\n",
    "with torch.no_grad():\n",
    "    # Iterate over all batches in the test loader\n",
    "    for X, labels in testloader:\n",
    "        labels = labels.to(device)\n",
    "        X_c1 = X[:,:,:14,:]\n",
    "        X_c2 = X[:,:,14:,:]\n",
    "        # Pass the images through the model to get predictions\n",
    "        # Forward pass\n",
    "        features = [\n",
    "            c1.forward(X_c1), # First client has top half of image\n",
    "            c2.forward(X_c2)  # Second client has the bottom half\n",
    "        ]\n",
    "        \n",
    "        concat = torch.hstack(features) # Concat feature vectors that are the output from the clients\n",
    "        outputs = s.forward(concat,y) # Feed them into the global model\n",
    "        # Get the class with the maximum probability as the predicted class\n",
    "        _, predicted = torch.max(outputs, 1)\n",
    "        \n",
    "        # Extend the all_preds list with predictions from this batch\n",
    "        all_preds.extend(predicted.cpu().numpy())\n",
    "        \n",
    "        # Extend the all_labels list with true labels from this batch\n",
    "        all_labels.extend(labels.cpu().numpy())\n",
    "\n",
    "# Print a classification report which provides an overview of the model's performance for each class\n",
    "print(classification_report(all_labels, all_preds, target_names=fashion_labels))\n"
   ]
  },
  {
   "cell_type": "code",
   "execution_count": null,
   "id": "eae8e714-b27c-447c-90f4-f61febb77e98",
   "metadata": {},
   "outputs": [],
   "source": []
  }
 ],
 "metadata": {
  "kernelspec": {
   "display_name": "Python 3 (ipykernel)",
   "language": "python",
   "name": "python3"
  },
  "language_info": {
   "codemirror_mode": {
    "name": "ipython",
    "version": 3
   },
   "file_extension": ".py",
   "mimetype": "text/x-python",
   "name": "python",
   "nbconvert_exporter": "python",
   "pygments_lexer": "ipython3",
   "version": "3.12.2"
  }
 },
 "nbformat": 4,
 "nbformat_minor": 5
}
