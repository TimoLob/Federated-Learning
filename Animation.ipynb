{
 "cells": [
  {
   "cell_type": "code",
   "execution_count": 1,
   "id": "737145ca-4ef7-47aa-bdfe-8c5a71c33c80",
   "metadata": {},
   "outputs": [],
   "source": [
    "from manim import *\n",
    "from manim_ml.neural_network import Convolutional2DLayer, FeedForwardLayer, NeuralNetwork, MaxPooling2DLayer, ImageLayer\n",
    "\n",
    "config.media_width = \"75%\"\n",
    "config.verbosity = \"WARNING\""
   ]
  },
  {
   "cell_type": "code",
   "execution_count": null,
   "id": "7a9c6565-8b9b-4def-82fe-0040771bfbaa",
   "metadata": {},
   "outputs": [],
   "source": [
    "%%manim -qm NN\n",
    "class NN(Scene):\n",
    "    def construct(self):\n",
    "        # Make the neural network\n",
    "        nn = NeuralNetwork([\n",
    "            FeedForwardLayer(num_nodes=3),\n",
    "            FeedForwardLayer(num_nodes=5),\n",
    "            FeedForwardLayer(num_nodes=3)\n",
    "        ])\n",
    "        self.add(nn)\n",
    "        # Make the animation\n",
    "        forward_pass_animation = nn.make_forward_pass_animation(run_time=10)\n",
    "        # Play the animation\n",
    "        self.play(forward_pass_animation)"
   ]
  },
  {
   "cell_type": "code",
   "execution_count": 2,
   "id": "a5a64141-6634-45ce-945e-ca3fed946e60",
   "metadata": {},
   "outputs": [
    {
     "name": "stdout",
     "output_type": "stream",
     "text": [
      "Running on cuda.\n",
      "torch.Size([1, 1, 28, 28]) torch.Size([1])\n",
      "(1, 14, 28)\n",
      "torch.Size([1, 14, 28])\n"
     ]
    },
    {
     "data": {
      "image/png": "[encoded data removed]",
      "text/plain": [
       "<Figure size 640x480 with 1 Axes>"
      ]
     },
     "metadata": {},
     "output_type": "display_data"
    },
    {
     "data": {
      "image/png": "[encoded data removed]",
      "text/plain": [
       "<Figure size 640x480 with 1 Axes>"
      ]
     },
     "metadata": {},
     "output_type": "display_data"
    },
    {
     "name": "stdout",
     "output_type": "stream",
     "text": [
      "Trouser\n"
     ]
    }
   ],
   "source": [
    "# Importing essential libraries and modules for deep learning and visualization\n",
    "import torch\n",
    "import torchvision\n",
    "import torchvision.transforms as transforms\n",
    "import torch.nn as nn\n",
    "import torch.nn.functional as F\n",
    "import torch.optim as optim\n",
    "\n",
    "import numpy as np\n",
    "import matplotlib.pyplot as plt\n",
    "from torchinfo import summary\n",
    "from tqdm.notebook import tqdm\n",
    "\n",
    "device = torch.device(\"cuda\" if torch.cuda.is_available() else \"cpu\")\n",
    "print(f\"Running on {device}.\")\n",
    "transform = transforms.Compose([transforms.ToTensor()])\n",
    "trainset = torchvision.datasets.FashionMNIST(root='./data', train=True, download=True, transform=transform)\n",
    "testset = torchvision.datasets.FashionMNIST(root='./data', train=False, download=True, transform=transform)\n",
    "\n",
    "trainloader = torch.utils.data.DataLoader(trainset, batch_size=1, shuffle=True, num_workers=2)\n",
    "testloader = torch.utils.data.DataLoader(testset, batch_size=1, shuffle=False, num_workers=2)\n",
    "\n",
    "fashion_labels = [\"T-shirt/top\",\"Trouser\",\"Pullover\",\"Dress\",\"Coat\",\"Sandal\",\"Shirt\",\"Sneaker\",\"Bag\",\"Ankle boot\"]\n",
    "for X, y in trainloader:\n",
    "    print(X.shape, y.shape)\n",
    "    X_c1 = np.array(X[:,:,:14,:])\n",
    "    X_c2 = X[:,:,14:,:]\n",
    "    X_c1 = X_c1[0]\n",
    "    X_c2 = X_c2[0]\n",
    "    print(X_c1.shape)\n",
    "    print(X_c2.shape)\n",
    "    img = X_c1\n",
    "    plt.imshow(img[0], cmap=\"gray\")\n",
    "    plt.show()\n",
    "    img = X_c2\n",
    "    plt.imshow(img[0], cmap=\"gray\")\n",
    "    plt.show()\n",
    "    print(fashion_labels[y[0]])\n",
    "    break"
   ]
  },
  {
   "cell_type": "code",
   "execution_count": null,
   "id": "5fa2c069-b5b6-436c-8e8e-4430c4d0f207",
   "metadata": {},
   "outputs": [],
   "source": []
  },
  {
   "cell_type": "code",
   "execution_count": 3,
   "id": "8d7a5a5e-2c61-4d7c-ad70-8415fe87c93a",
   "metadata": {},
   "outputs": [
    {
     "name": "stdout",
     "output_type": "stream",
     "text": [
      "(14, 28, 3)\n",
      "(14, 28, 3)\n"
     ]
    }
   ],
   "source": [
    "im1 = np.vstack([X_c1,X_c1,X_c1]).transpose(1,2,0)\n",
    "im2 = np.vstack([X_c2,X_c2,X_c2]).transpose(1,2,0)\n",
    "print(im1.shape)\n",
    "#print(im1*255)\n",
    "print(im2.shape)\n",
    "#print(im2*255)"
   ]
  },
  {
   "cell_type": "code",
   "execution_count": 7,
   "id": "aa7be8aa-c459-4878-b387-315f371a4d49",
   "metadata": {},
   "outputs": [
    {
     "data": {
      "text/html": [
       "<pre style=\"white-space:pre;overflow-x:auto;line-height:normal;font-family:Menlo,'DejaVu Sans Mono',consolas,'Courier New',monospace\">Manim Community <span style=\"color: #008000; text-decoration-color: #008000\">v0.18.1</span>\n",
       "\n",
       "</pre>\n"
      ],
      "text/plain": [
       "Manim Community \u001b[32mv0.\u001b[0m\u001b[32m18.1\u001b[0m\n",
       "\n"
      ]
     },
     "metadata": {},
     "output_type": "display_data"
    },
    {
     "name": "stdout",
     "output_type": "stream",
     "text": [
      "Constructing layers\n",
      "Current layer: Convolutional2DLayer\n",
      "Current layer: Convolutional2DLayer\n",
      "Current layer: FeedForwardLayer\n",
      "Current layer: FeedForwardLayer\n",
      "NeuralNetwork([\n",
      "    Convolutional2DLayer(z_index=3, title_text= , ),\n",
      "    Convolutional2DToConvolutional2D(input_layer=Convolutional2DLayer,output_layer=Convolutional2DLayer,)(z_index=2, title_text= , ),\n",
      "    Convolutional2DLayer(z_index=3, title_text= , ),\n",
      "    Convolutional2DToFeedForward(input_layer=Convolutional2DLayer,output_layer=FeedForwardLayer,)(z_index=2, title_text= , ),\n",
      "    FeedForwardLayer(z_index=3, title_text= , ),\n",
      "    FeedForwardToFeedForward(input_layer=FeedForwardLayer,output_layer=FeedForwardLayer,)(z_index=2, title_text= , ),\n",
      "    FeedForwardLayer(z_index=3, title_text= , ),\n",
      "])\n",
      "Constructing layers\n",
      "Current layer: FeedForwardLayer\n",
      "Current layer: FeedForwardLayer\n",
      "Current layer: FeedForwardLayer\n",
      "Current layer: FeedForwardLayer\n",
      "NeuralNetwork([\n",
      "    FeedForwardLayer(z_index=3, title_text= , ),\n",
      "    FeedForwardToFeedForward(input_layer=FeedForwardLayer,output_layer=FeedForwardLayer,)(z_index=2, title_text= , ),\n",
      "    FeedForwardLayer(z_index=3, title_text= , ),\n",
      "    FeedForwardToFeedForward(input_layer=FeedForwardLayer,output_layer=FeedForwardLayer,)(z_index=2, title_text= , ),\n",
      "    FeedForwardLayer(z_index=3, title_text= , ),\n",
      "    FeedForwardToFeedForward(input_layer=FeedForwardLayer,output_layer=FeedForwardLayer,)(z_index=2, title_text= , ),\n",
      "    FeedForwardLayer(z_index=3, title_text= , ),\n",
      "])\n",
      "Constructing layers\n",
      "Current layer: FeedForwardLayer\n",
      "Current layer: FeedForwardLayer\n",
      "NeuralNetwork([\n",
      "    FeedForwardLayer(z_index=3, title_text= , ),\n",
      "    FeedForwardToFeedForward(input_layer=FeedForwardLayer,output_layer=FeedForwardLayer,)(z_index=2, title_text= , ),\n",
      "    FeedForwardLayer(z_index=3, title_text= , ),\n",
      "])\n",
      "All filters at once: False\n"
     ]
    },
    {
     "name": "stderr",
     "output_type": "stream",
     "text": [
      "                                                                                    \r"
     ]
    },
    {
     "data": {
      "text/html": [
       "<video src=\"media/jupyter/VFLDifferent@2024-10-15@12-09-39.mp4\" controls autoplay loop style=\"max-width: 75%;\"  >\n",
       "      Your browser does not support the <code>video</code> element.\n",
       "    </video>"
      ],
      "text/plain": [
       "<IPython.core.display.Video object>"
      ]
     },
     "metadata": {},
     "output_type": "display_data"
    }
   ],
   "source": [
    "%%manim -ql VFLDifferent\n",
    "\n",
    "from manim import *\n",
    "from manim_ml.neural_network import Convolutional2DLayer, FeedForwardLayer, NeuralNetwork, MaxPooling2DLayer, ImageLayer\n",
    "\n",
    "config.media_width = \"75%\"\n",
    "config.verbosity = \"WARNING\"\n",
    "config.pixel_height = 1400\n",
    "#config.pixel_width = 1000\n",
    "config.frame_height = 7.0\n",
    "config.frame_width = 6.0\n",
    "class VFLDifferent(Scene):\n",
    "    def construct(self):\n",
    "        # Make the neural network \\\n",
    "        # Convolutional2DLayer(num_feature_maps, feature_map_size, filter_size)\n",
    "        c1 = NeuralNetwork([\n",
    "            Convolutional2DLayer(1, 7, 3, filter_spacing=0.32), # Note the default stride is 1. \n",
    "            Convolutional2DLayer(3, 4, 2, filter_spacing=0.32),\n",
    "            FeedForwardLayer(5),\n",
    "            FeedForwardLayer(2),\n",
    "        ],\n",
    "        layer_spacing=0.25,\n",
    "        )\n",
    "\n",
    "        c2 = NeuralNetwork([\n",
    "            FeedForwardLayer(10),\n",
    "            FeedForwardLayer(6),\n",
    "            FeedForwardLayer(5),\n",
    "            FeedForwardLayer(2),\n",
    "        ],\n",
    "        layer_spacing=0.25,\n",
    "        )\n",
    "        c1.shift(UP)\n",
    "        c1.scale(0.6)\n",
    "        c2.scale(0.6)\n",
    "        c2.next_to(c1,DOWN)\n",
    "        self.add(c1)\n",
    "        self.add(c2)\n",
    "        \n",
    "        g = NeuralNetwork([\n",
    "            FeedForwardLayer(4),\n",
    "            FeedForwardLayer(2),\n",
    "        ],\n",
    "        layer_spacing=0.25,\n",
    "        )\n",
    "        g.next_to(c1,RIGHT)\n",
    "        g.scale(0.6)\n",
    "        g.shift(DOWN*0.5)\n",
    "        self.add(g)\n",
    "        label = Text(\"VFL forward pass\")\n",
    "        label.font_size = 25\n",
    "        label.next_to(c1,UP)\n",
    "        self.add(label)\n",
    "\n",
    "        # Make the animation\n",
    "        forward_pass_animation_c1 = c1.make_forward_pass_animation(run_time=7)\n",
    "        forward_pass_animation_c2 = c2.make_forward_pass_animation(run_time=7)\n",
    "        # Play the animation\n",
    "        \n",
    "\n",
    "        forward_pass_animation_g = g.make_forward_pass_animation(run_time=4)\n",
    "        self.play(\n",
    "            [forward_pass_animation_c1,\n",
    "             forward_pass_animation_c2\n",
    "            ],\n",
    "            run_time=7)\n",
    "\n",
    "        features = [\n",
    "            c2.all_layers[-1].node_group[0].copy(),\n",
    "            c2.all_layers[-1].node_group[1].copy(),\n",
    "            c1.all_layers[-1].node_group[0].copy(),\n",
    "            c1.all_layers[-1].node_group[1].copy()\n",
    "        ]\n",
    "        for f in features:\n",
    "            self.add(f)\n",
    "            \n",
    "        transforms = [Transform(f,g.all_layers[0].node_group[i]) for i,f in enumerate(features)]\n",
    "        self.play(transforms)\n",
    "        \"\"\"self.play([\n",
    "            Transform(c1.all_layers[-1].node_group[0],g.all_layers[0].node_group[2]),\n",
    "            Transform(c1.all_layers[-1].node_group[1],g.all_layers[0].node_group[3]),\n",
    "            Transform(c2.all_layers[-1].node_group[0],g.all_layers[0].node_group[0]),\n",
    "            Transform(c2.all_layers[-1].node_group[1],g.all_layers[0].node_group[1]),\n",
    "        ])\"\"\"\n",
    "        self.play(forward_pass_animation_g,)\n",
    "\n"
   ]
  },
  {
   "cell_type": "code",
   "execution_count": null,
   "id": "1d489b85-338e-40b1-9453-01c48f335e64",
   "metadata": {},
   "outputs": [],
   "source": []
  },
  {
   "cell_type": "code",
   "execution_count": 80,
   "id": "6373fc67-5487-4c4d-a087-fead715ba9fe",
   "metadata": {},
   "outputs": [
    {
     "data": {
      "text/html": [
       "<pre style=\"white-space:pre;overflow-x:auto;line-height:normal;font-family:Menlo,'DejaVu Sans Mono',consolas,'Courier New',monospace\">Manim Community <span style=\"color: #008000; text-decoration-color: #008000\">v0.18.1</span>\n",
       "\n",
       "</pre>\n"
      ],
      "text/plain": [
       "Manim Community \u001b[32mv0.\u001b[0m\u001b[32m18.1\u001b[0m\n",
       "\n"
      ]
     },
     "metadata": {},
     "output_type": "display_data"
    },
    {
     "name": "stdout",
     "output_type": "stream",
     "text": [
      "Constructing layers\n",
      "Current layer: Convolutional2DLayer\n",
      "Current layer: FeedForwardLayer\n",
      "Current layer: FeedForwardLayer\n",
      "NeuralNetwork([\n",
      "    Convolutional2DLayer(z_index=3, title_text= , ),\n",
      "    Convolutional2DToFeedForward(input_layer=Convolutional2DLayer,output_layer=FeedForwardLayer,)(z_index=2, title_text= , ),\n",
      "    FeedForwardLayer(z_index=3, title_text= , ),\n",
      "    FeedForwardToFeedForward(input_layer=FeedForwardLayer,output_layer=FeedForwardLayer,)(z_index=2, title_text= , ),\n",
      "    FeedForwardLayer(z_index=3, title_text= , ),\n",
      "])\n",
      "Constructing layers\n",
      "Current layer: FeedForwardLayer\n",
      "Current layer: FeedForwardLayer\n",
      "Current layer: FeedForwardLayer\n",
      "NeuralNetwork([\n",
      "    FeedForwardLayer(z_index=3, title_text= , ),\n",
      "    FeedForwardToFeedForward(input_layer=FeedForwardLayer,output_layer=FeedForwardLayer,)(z_index=2, title_text= , ),\n",
      "    FeedForwardLayer(z_index=3, title_text= , ),\n",
      "    FeedForwardToFeedForward(input_layer=FeedForwardLayer,output_layer=FeedForwardLayer,)(z_index=2, title_text= , ),\n",
      "    FeedForwardLayer(z_index=3, title_text= , ),\n",
      "])\n"
     ]
    },
    {
     "name": "stderr",
     "output_type": "stream",
     "text": [
      "                                                                                                         \r"
     ]
    },
    {
     "data": {
      "text/html": [
       "<video src=\"media/jupyter/VFLSame@2024-10-14@17-37-01.mp4\" controls autoplay loop style=\"max-width: 75%;\"  >\n",
       "      Your browser does not support the <code>video</code> element.\n",
       "    </video>"
      ],
      "text/plain": [
       "<IPython.core.display.Video object>"
      ]
     },
     "metadata": {},
     "output_type": "display_data"
    }
   ],
   "source": [
    "%%manim -ql VFLSame\n",
    "\n",
    "config.pixel_height = 1600\n",
    "config.pixel_width = 1600\n",
    "config.frame_height = 7.0\n",
    "config.frame_width = 7.0\n",
    "class VFLSame(Scene):\n",
    "    def construct(self):\n",
    "        # Make the neural network \\\n",
    "        # Convolutional2DLayer(num_feature_maps, feature_map_size, filter_size)\n",
    "        c1 = NeuralNetwork([\n",
    "            Convolutional2DLayer(1, 7, 3, filter_spacing=0.32), # Note the default stride is 1. \n",
    "            FeedForwardLayer(5),\n",
    "            FeedForwardLayer(2),\n",
    "        ],\n",
    "        layer_spacing=0.25,\n",
    "        )\n",
    "\n",
    "        c2 = c1.copy()\n",
    "        c1.shift(UP)\n",
    "        c1.scale(0.6)\n",
    "        c2.scale(0.6)\n",
    "        c2.next_to(c1,DOWN)\n",
    "        self.add(c1)\n",
    "        self.add(c2)\n",
    "        \n",
    "        g = NeuralNetwork([\n",
    "            FeedForwardLayer(4),            \n",
    "            FeedForwardLayer(3),\n",
    "            FeedForwardLayer(2),\n",
    "        ],\n",
    "        layer_spacing=0.25,\n",
    "        )\n",
    "        g.next_to(c1,RIGHT)\n",
    "        g.scale(0.6)\n",
    "        g.shift(DOWN*0.5)\n",
    "        self.add(g)\n",
    "        # Make the animation\n",
    "        forward_pass_animation_c1 = c1.make_forward_pass_animation(run_time=10)\n",
    "        forward_pass_animation_c2 = c2.make_forward_pass_animation(run_time=10)\n",
    "        # Play the animation\n",
    "        \n",
    "\n",
    "        forward_pass_animation_g = g.make_forward_pass_animation(run_time=10)\n",
    "        self.play(\n",
    "            [forward_pass_animation_c1,\n",
    "             forward_pass_animation_c2\n",
    "            ],\n",
    "            run_time=10)\n",
    "\n",
    "        features = [\n",
    "            c2.all_layers[-1].node_group[0].copy(),\n",
    "            c2.all_layers[-1].node_group[1].copy(),\n",
    "            c1.all_layers[-1].node_group[0].copy(),\n",
    "            c1.all_layers[-1].node_group[1].copy()\n",
    "        ]\n",
    "        for f in features:\n",
    "            self.add(f)\n",
    "            \n",
    "        transforms = [Transform(f,g.all_layers[0].node_group[i]) for i,f in enumerate(features)]\n",
    "        self.play(transforms)\n",
    "        \"\"\"self.play([\n",
    "            Transform(c1.all_layers[-1].node_group[0],g.all_layers[0].node_group[2]),\n",
    "            Transform(c1.all_layers[-1].node_group[1],g.all_layers[0].node_group[3]),\n",
    "            Transform(c2.all_layers[-1].node_group[0],g.all_layers[0].node_group[0]),\n",
    "            Transform(c2.all_layers[-1].node_group[1],g.all_layers[0].node_group[1]),\n",
    "        ])\"\"\"\n",
    "        self.play(forward_pass_animation_g,run_time=5)\n",
    "\n"
   ]
  },
  {
   "cell_type": "code",
   "execution_count": 12,
   "id": "06904995-6960-451e-bbac-f7ffa04de8b9",
   "metadata": {},
   "outputs": [
    {
     "data": {
      "text/html": [
       "<pre style=\"white-space:pre;overflow-x:auto;line-height:normal;font-family:Menlo,'DejaVu Sans Mono',consolas,'Courier New',monospace\">Manim Community <span style=\"color: #008000; text-decoration-color: #008000\">v0.18.1</span>\n",
       "\n",
       "</pre>\n"
      ],
      "text/plain": [
       "Manim Community \u001b[32mv0.\u001b[0m\u001b[32m18.1\u001b[0m\n",
       "\n"
      ]
     },
     "metadata": {},
     "output_type": "display_data"
    },
    {
     "name": "stdout",
     "output_type": "stream",
     "text": [
      "Constructing layers\n",
      "Current layer: FeedForwardLayer\n",
      "Current layer: FeedForwardLayer\n",
      "Current layer: FeedForwardLayer\n",
      "Current layer: FeedForwardLayer\n",
      "Current layer: FeedForwardLayer\n",
      "NeuralNetwork([\n",
      "    FeedForwardLayer(z_index=3, title_text= , ),\n",
      "    FeedForwardToFeedForward(input_layer=FeedForwardLayer,output_layer=FeedForwardLayer,)(z_index=2, title_text= , ),\n",
      "    FeedForwardLayer(z_index=3, title_text= , ),\n",
      "    FeedForwardToFeedForward(input_layer=FeedForwardLayer,output_layer=FeedForwardLayer,)(z_index=2, title_text= , ),\n",
      "    FeedForwardLayer(z_index=3, title_text= , ),\n",
      "    FeedForwardToFeedForward(input_layer=FeedForwardLayer,output_layer=FeedForwardLayer,)(z_index=2, title_text= , ),\n",
      "    FeedForwardLayer(z_index=3, title_text= , ),\n",
      "    FeedForwardToFeedForward(input_layer=FeedForwardLayer,output_layer=FeedForwardLayer,)(z_index=2, title_text= , ),\n",
      "    FeedForwardLayer(z_index=3, title_text= , ),\n",
      "])\n"
     ]
    },
    {
     "data": {
      "image/png": "[encoded data removed]",
      "text/plain": [
       "<IPython.core.display.Image object>"
      ]
     },
     "metadata": {},
     "output_type": "display_data"
    }
   ],
   "source": [
    "%%manim -ql MAE\n",
    "\n",
    "from manim import *\n",
    "from manim_ml.neural_network import Convolutional2DLayer, FeedForwardLayer, NeuralNetwork, MaxPooling2DLayer, ImageLayer\n",
    "\n",
    "config.media_width = \"75%\"\n",
    "config.verbosity = \"WARNING\"\n",
    "config.pixel_height = 1400\n",
    "#config.pixel_width = 1000\n",
    "config.frame_height = 7.0\n",
    "config.frame_width = 6.0\n",
    "class MAE(Scene):\n",
    "    def construct(self):\n",
    "        mae = NeuralNetwork([\n",
    "            FeedForwardLayer(7),\n",
    "            FeedForwardLayer(5),\n",
    "            FeedForwardLayer(3),\n",
    "            FeedForwardLayer(5),\n",
    "            FeedForwardLayer(7),\n",
    "        ])\n",
    "        self.add(mae)\n",
    "        \n",
    "        "
   ]
  },
  {
   "cell_type": "code",
   "execution_count": 80,
   "id": "f108ae44-3607-47b3-8de1-f4df7bd3962d",
   "metadata": {},
   "outputs": [
    {
     "data": {
      "text/html": [
       "<pre style=\"white-space:pre;overflow-x:auto;line-height:normal;font-family:Menlo,'DejaVu Sans Mono',consolas,'Courier New',monospace\">Manim Community <span style=\"color: #008000; text-decoration-color: #008000\">v0.18.1</span>\n",
       "\n",
       "</pre>\n"
      ],
      "text/plain": [
       "Manim Community \u001b[32mv0.\u001b[0m\u001b[32m18.1\u001b[0m\n",
       "\n"
      ]
     },
     "metadata": {},
     "output_type": "display_data"
    },
    {
     "name": "stderr",
     "output_type": "stream",
     "text": [
      "<string>:24: DeprecationWarning: This method is not guaranteed to stay around. Please prefer setting the attribute normally or with Mobject.set().\n"
     ]
    },
    {
     "name": "stdout",
     "output_type": "stream",
     "text": [
      "Constructing layers\n",
      "Current layer: FeedForwardLayer\n",
      "Current layer: FeedForwardLayer\n",
      "Current layer: FeedForwardLayer\n",
      "Current layer: FeedForwardLayer\n",
      "Current layer: FeedForwardLayer\n",
      "NeuralNetwork([\n",
      "    FeedForwardLayer(z_index=3, title_text= , ),\n",
      "    FeedForwardToFeedForward(input_layer=FeedForwardLayer,output_layer=FeedForwardLayer,)(z_index=2, title_text= , ),\n",
      "    FeedForwardLayer(z_index=3, title_text= , ),\n",
      "    FeedForwardToFeedForward(input_layer=FeedForwardLayer,output_layer=FeedForwardLayer,)(z_index=2, title_text= , ),\n",
      "    FeedForwardLayer(z_index=3, title_text= , ),\n",
      "    FeedForwardToFeedForward(input_layer=FeedForwardLayer,output_layer=FeedForwardLayer,)(z_index=2, title_text= , ),\n",
      "    FeedForwardLayer(z_index=3, title_text= , ),\n",
      "    FeedForwardToFeedForward(input_layer=FeedForwardLayer,output_layer=FeedForwardLayer,)(z_index=2, title_text= , ),\n",
      "    FeedForwardLayer(z_index=3, title_text= , ),\n",
      "])\n"
     ]
    },
    {
     "name": "stderr",
     "output_type": "stream",
     "text": [
      "                                                                                    \r"
     ]
    },
    {
     "data": {
      "text/html": [
       "<video src=\"media/jupyter/MAEAnimated@2024-10-15@15-42-47.mp4\" controls autoplay loop style=\"max-width: 75%;\"  >\n",
       "      Your browser does not support the <code>video</code> element.\n",
       "    </video>"
      ],
      "text/plain": [
       "<IPython.core.display.Video object>"
      ]
     },
     "metadata": {},
     "output_type": "display_data"
    }
   ],
   "source": [
    "%%manim -ql MAEAnimated\n",
    "\n",
    "from manim import *\n",
    "from manim_ml.neural_network import Convolutional2DLayer, FeedForwardLayer, NeuralNetwork, MaxPooling2DLayer, ImageLayer\n",
    "\n",
    "config.media_width = \"75%\"\n",
    "config.verbosity = \"WARNING\"\n",
    "config.pixel_height = 1400\n",
    "#config.pixel_width = 1000\n",
    "config.frame_height = 7.0\n",
    "config.frame_width = 6.0\n",
    "class MAEAnimated(Scene):\n",
    "    def construct(self):\n",
    "        input_neurons = 7 \n",
    "        mae = NeuralNetwork([\n",
    "            FeedForwardLayer(input_neurons),\n",
    "            FeedForwardLayer(5),\n",
    "            FeedForwardLayer(3),\n",
    "            FeedForwardLayer(5),\n",
    "            FeedForwardLayer(input_neurons),\n",
    "        ])\n",
    "        self.add(mae)\n",
    "\n",
    "        label = Text(\"N-1 to 1 Strategy\").next_to(mae,UP*0.5)\n",
    "        label.set_font_size(20)\n",
    "        self.add(label)\n",
    "        circles = [mae.all_layers[0].node_group[i].copy().next_to(mae.all_layers[0].node_group[i],LEFT*5) for i in range(7)]\n",
    "\n",
    "        \n",
    "\n",
    "        #self.add(*circles)\n",
    "        self.play(FadeIn(*circles))\n",
    "        self.add(*circles)\n",
    "        animations = [\n",
    "            circles[i].animate.next_to(mae.all_layers[0].node_group[i],LEFT) for i in range(input_neurons)\n",
    "        ]\n",
    "        self.play(animations)\n",
    "        animations = []\n",
    "        targets = [circles[i].copy() for i in range(input_neurons)]\n",
    "        animations = [\n",
    "            targets[i].animate.next_to(mae.all_layers[-1].node_group[i],RIGHT) for i in range(input_neurons)\n",
    "        ]\n",
    "        self.add(*targets)\n",
    "        self.play(animations)\n",
    "        animations = []\n",
    "        cross = Cross(circles[0],stroke_width=2) \n",
    "        cross.set_z_index(10)\n",
    "\n",
    "        self.play(FadeIn(cross))\n",
    "        animations = [ circles[i].animate.move_to(mae.all_layers[0].node_group[i]) for i in range(input_neurons)]\n",
    "        animations.append(cross.animate.move_to(mae.all_layers[0].node_group[0]))\n",
    "        self.add(cross)\n",
    "        self.play(animations)\n",
    "        forward_pass_animation = mae.make_forward_pass_animation(run_time=5)\n",
    "        self.play(forward_pass_animation)\n",
    "        animations = [\n",
    "            targets[0].animate.set_color(ORANGE),\n",
    "            mae.all_layers[-1].node_group[0].animate.set_color(ORANGE)\n",
    "                     ]\n",
    "        #animations = [t.animate.set_color(GREEN) for t in targets]\n",
    "        #for i in range(input_neurons):\n",
    "            #animations.append(mae.all_layers[-1].node_group[i].animate.set_color(GREEN))\n",
    "\n",
    "        self.play(animations)\n",
    "        self.play(Wait(2))\n"
   ]
  },
  {
   "cell_type": "code",
   "execution_count": 143,
   "id": "4cfde559-d4fb-4153-ad21-fcd2d1e5d802",
   "metadata": {},
   "outputs": [
    {
     "data": {
      "text/html": [
       "<pre style=\"white-space:pre;overflow-x:auto;line-height:normal;font-family:Menlo,'DejaVu Sans Mono',consolas,'Courier New',monospace\">Manim Community <span style=\"color: #008000; text-decoration-color: #008000\">v0.18.1</span>\n",
       "\n",
       "</pre>\n"
      ],
      "text/plain": [
       "Manim Community \u001b[32mv0.\u001b[0m\u001b[32m18.1\u001b[0m\n",
       "\n"
      ]
     },
     "metadata": {},
     "output_type": "display_data"
    },
    {
     "name": "stdout",
     "output_type": "stream",
     "text": [
      "Constructing layers\n",
      "Current layer: FeedForwardLayer\n",
      "Current layer: FeedForwardLayer\n",
      "Current layer: FeedForwardLayer\n",
      "Current layer: FeedForwardLayer\n",
      "Current layer: FeedForwardLayer\n",
      "NeuralNetwork([\n",
      "    FeedForwardLayer(z_index=3, title_text= , ),\n",
      "    FeedForwardToFeedForward(input_layer=FeedForwardLayer,output_layer=FeedForwardLayer,)(z_index=2, title_text= , ),\n",
      "    FeedForwardLayer(z_index=3, title_text= , ),\n",
      "    FeedForwardToFeedForward(input_layer=FeedForwardLayer,output_layer=FeedForwardLayer,)(z_index=2, title_text= , ),\n",
      "    FeedForwardLayer(z_index=3, title_text= , ),\n",
      "    FeedForwardToFeedForward(input_layer=FeedForwardLayer,output_layer=FeedForwardLayer,)(z_index=2, title_text= , ),\n",
      "    FeedForwardLayer(z_index=3, title_text= , ),\n",
      "    FeedForwardToFeedForward(input_layer=FeedForwardLayer,output_layer=FeedForwardLayer,)(z_index=2, title_text= , ),\n",
      "    FeedForwardLayer(z_index=3, title_text= , ),\n",
      "])\n"
     ]
    },
    {
     "name": "stderr",
     "output_type": "stream",
     "text": [
      "<string>:24: DeprecationWarning: This method is not guaranteed to stay around. Please prefer setting the attribute normally or with Mobject.set().\n",
      "                                                                                    \r"
     ]
    },
    {
     "data": {
      "text/html": [
       "<video src=\"media/jupyter/VFLIPAnomalyScore@2024-10-15@17-08-15.mp4\" controls autoplay loop style=\"max-width: 75%;\"  >\n",
       "      Your browser does not support the <code>video</code> element.\n",
       "    </video>"
      ],
      "text/plain": [
       "<IPython.core.display.Video object>"
      ]
     },
     "metadata": {},
     "output_type": "display_data"
    }
   ],
   "source": [
    "%%manim -ql VFLIPAnomalyScore\n",
    "\n",
    "from manim import *\n",
    "from manim_ml.neural_network import Convolutional2DLayer, FeedForwardLayer, NeuralNetwork, MaxPooling2DLayer, ImageLayer\n",
    "\n",
    "config.media_width = \"75%\"\n",
    "config.verbosity = \"WARNING\"\n",
    "config.pixel_height = 1400\n",
    "#config.pixel_width = 1000\n",
    "config.frame_height = 7.0\n",
    "config.frame_width = 6.0\n",
    "class VFLIPAnomalyScore(Scene):\n",
    "    def construct(self):\n",
    "        input_neurons = 7 \n",
    "        mae = NeuralNetwork([\n",
    "            FeedForwardLayer(input_neurons),\n",
    "            FeedForwardLayer(5),\n",
    "            FeedForwardLayer(3),\n",
    "            FeedForwardLayer(5),\n",
    "            FeedForwardLayer(input_neurons),\n",
    "        ])\n",
    "        self.add(mae)\n",
    "\n",
    "        label = Text(\"Anomaly Score Calculation\").next_to(mae,UP*0.5)\n",
    "        label.set_font_size(20)\n",
    "        self.add(label)\n",
    "\n",
    "        \n",
    "\n",
    "        hi = 4\n",
    "        circles = [mae.all_layers[0].node_group[i].copy().next_to(mae.all_layers[0].node_group[i],LEFT) for i in range(7)]\n",
    "        circles[hi].set_color(GREEN)\n",
    "        self.add(*circles)\n",
    "\n",
    "        copies = [\n",
    "            c.copy() for c in circles\n",
    "        ]\n",
    "        self.add(*copies)\n",
    "\n",
    "\n",
    "        label_hi = Tex(f\"$i={input_neurons-hi-1}\\\\rightarrow$\").next_to(copies[hi],LEFT).shift(RIGHT*0.7)\n",
    "        label_hi.font_size = 15\n",
    "        self.add(label_hi)\n",
    "        targets = [circles[i].copy() for i in range(input_neurons)]\n",
    "        animations = [\n",
    "            targets[i].animate.next_to(mae.all_layers[-1].node_group[i],RIGHT) for i in range(input_neurons)\n",
    "        ]\n",
    "        self.add(*targets)\n",
    "        self.play(animations)\n",
    "        animations = []\n",
    "        for hj in reversed(range(input_neurons)):\n",
    "            if hj == hi:\n",
    "                continue\n",
    "            label_hj = Tex(f\"$j={input_neurons-hj-1}\\\\rightarrow$\").next_to(copies[hj],LEFT).shift(RIGHT*0.7)\n",
    "            label_hj.font_size = 15\n",
    "            self.add(label_hj)\n",
    "            copies[hj].set_color(RED)\n",
    "            circles[hj].set_color(RED)\n",
    "            circles[hi].set_z_index(3)\n",
    "            crosses = [Cross(c,stroke_width=2).set_z_index(10) for c in circles]\n",
    "            \n",
    "            self.add(*crosses)\n",
    "            self.remove(crosses[hj])\n",
    "            animations = [ circles[i].animate.move_to(mae.all_layers[0].node_group[i]) for i in range(input_neurons)]\n",
    "            for i,cross in enumerate(crosses):\n",
    "                if i!=hj:\n",
    "                    animations.append(cross.animate.move_to(mae.all_layers[0].node_group[i]))\n",
    "            self.play(animations)\n",
    "            forward_pass_animation = mae.make_forward_pass_animation(run_time=2)\n",
    "            self.play(forward_pass_animation)\n",
    "            animations = [\n",
    "                targets[hi].animate.set_color(RED),\n",
    "                mae.all_layers[-1].node_group[hi].animate.set_color(RED)\n",
    "                         ]\n",
    "\n",
    "            self.play(animations)\n",
    "            \n",
    "\n",
    "            text = \"$s_{\"+ str(input_neurons-hj-1)+\"\\\\rightarrow \" + str(input_neurons-hi-1) + \"}$\"\n",
    "            score = Tex(text).next_to(targets[hj],RIGHT*0.1)\n",
    "            score.font_size = 15\n",
    "            self.play(FadeIn(score))\n",
    "            animations = [\n",
    "                targets[hi].animate.set_color(GREEN),\n",
    "                mae.all_layers[-1].node_group[hi].animate.set_color(BLUE)\n",
    "            ]\n",
    "            self.play(animations)\n",
    "            self.remove(*crosses)\n",
    "            for i in range(input_neurons):\n",
    "                circles[i].next_to(mae.all_layers[0].node_group[i],LEFT)\n",
    "            copies[hj].set_color(BLUE)\n",
    "            circles[hj].set_color(BLUE)\n",
    "            self.remove(label_hj)\n",
    "        self.play(Wait(2))"
   ]
  },
  {
   "cell_type": "code",
   "execution_count": null,
   "id": "96e4a836-df89-4625-863a-125565793ee4",
   "metadata": {},
   "outputs": [],
   "source": []
  }
 ],
 "metadata": {
  "kernelspec": {
   "display_name": "Python 3 (ipykernel)",
   "language": "python",
   "name": "python3"
  },
  "language_info": {
   "codemirror_mode": {
    "name": "ipython",
    "version": 3
   },
   "file_extension": ".py",
   "mimetype": "text/x-python",
   "name": "python",
   "nbconvert_exporter": "python",
   "pygments_lexer": "ipython3",
   "version": "3.12.2"
  }
 },
 "nbformat": 4,
 "nbformat_minor": 5
}
