{
 "cells": [
  {
   "cell_type": "code",
   "execution_count": 1,
   "id": "737145ca-4ef7-47aa-bdfe-8c5a71c33c80",
   "metadata": {},
   "outputs": [],
   "source": [
    "from manim import *\n",
    "from manim_ml.neural_network import Convolutional2DLayer, FeedForwardLayer, NeuralNetwork\n",
    "\n",
    "config.media_width = \"75%\"\n",
    "config.verbosity = \"WARNING\""
   ]
  },
  {
   "cell_type": "code",
   "execution_count": 2,
   "id": "7a9c6565-8b9b-4def-82fe-0040771bfbaa",
   "metadata": {},
   "outputs": [
    {
     "data": {
      "text/html": [
       "<pre style=\"white-space:pre;overflow-x:auto;line-height:normal;font-family:Menlo,'DejaVu Sans Mono',consolas,'Courier New',monospace\">Manim Community <span style=\"color: #008000; text-decoration-color: #008000\">v0.18.1</span>\n",
       "\n",
       "</pre>\n"
      ],
      "text/plain": [
       "Manim Community \u001b[32mv0.\u001b[0m\u001b[32m18.1\u001b[0m\n",
       "\n"
      ]
     },
     "metadata": {},
     "output_type": "display_data"
    },
    {
     "name": "stdout",
     "output_type": "stream",
     "text": [
      "Constructing layers\n",
      "Current layer: FeedForwardLayer\n",
      "Current layer: FeedForwardLayer\n",
      "Current layer: FeedForwardLayer\n",
      "NeuralNetwork([\n",
      "    FeedForwardLayer(z_index=3, title_text= , ),\n",
      "    FeedForwardToFeedForward(input_layer=FeedForwardLayer,output_layer=FeedForwardLayer,)(z_index=2, title_text= , ),\n",
      "    FeedForwardLayer(z_index=3, title_text= , ),\n",
      "    FeedForwardToFeedForward(input_layer=FeedForwardLayer,output_layer=FeedForwardLayer,)(z_index=2, title_text= , ),\n",
      "    FeedForwardLayer(z_index=3, title_text= , ),\n",
      "])\n"
     ]
    },
    {
     "name": "stderr",
     "output_type": "stream",
     "text": [
      "                                                                                                                                                                                                                  \r"
     ]
    },
    {
     "data": {
      "text/html": [
       "<video src=\"media/jupyter/NN@2024-10-14@13-51-12.mp4\" controls autoplay loop style=\"max-width: 75%;\"  >\n",
       "      Your browser does not support the <code>video</code> element.\n",
       "    </video>"
      ],
      "text/plain": [
       "<IPython.core.display.Video object>"
      ]
     },
     "metadata": {},
     "output_type": "display_data"
    }
   ],
   "source": [
    "%%manim -qm NN\n",
    "class NN(Scene):\n",
    "    def construct(self):\n",
    "        # Make the neural network\n",
    "        nn = NeuralNetwork([\n",
    "            FeedForwardLayer(num_nodes=3),\n",
    "            FeedForwardLayer(num_nodes=5),\n",
    "            FeedForwardLayer(num_nodes=3)\n",
    "        ])\n",
    "        self.add(nn)\n",
    "        # Make the animation\n",
    "        forward_pass_animation = nn.make_forward_pass_animation(run_time=10)\n",
    "        # Play the animation\n",
    "        self.play(forward_pass_animation)"
   ]
  },
  {
   "cell_type": "code",
   "execution_count": null,
   "id": "a5a64141-6634-45ce-945e-ca3fed946e60",
   "metadata": {},
   "outputs": [],
   "source": []
  }
 ],
 "metadata": {
  "kernelspec": {
   "display_name": "Python 3 (ipykernel)",
   "language": "python",
   "name": "python3"
  },
  "language_info": {
   "codemirror_mode": {
    "name": "ipython",
    "version": 3
   },
   "file_extension": ".py",
   "mimetype": "text/x-python",
   "name": "python",
   "nbconvert_exporter": "python",
   "pygments_lexer": "ipython3",
   "version": "3.12.2"
  }
 },
 "nbformat": 4,
 "nbformat_minor": 5
}
