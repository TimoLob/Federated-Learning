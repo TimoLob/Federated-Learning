{
 "cells": [
  {
   "cell_type": "code",
   "execution_count": null,
   "id": "ca50ac92-959d-4bf0-8ec5-c765d33e0244",
   "metadata": {},
   "outputs": [],
   "source": [
    "# Get input size of batch\n",
    "datatype = trainloader.dataset.data.dtype\n",
    "\n",
    "for X_batch, y_batch in trainloader:\n",
    "    print(X_batch.shape, y_batch.shape)\n",
    "    break"
   ]
  }
 ],
 "metadata": {
  "kernelspec": {
   "display_name": "Python 3 (ipykernel)",
   "language": "python",
   "name": "python3"
  },
  "language_info": {
   "codemirror_mode": {
    "name": "ipython",
    "version": 3
   },
   "file_extension": ".py",
   "mimetype": "text/x-python",
   "name": "python",
   "nbconvert_exporter": "python",
   "pygments_lexer": "ipython3",
   "version": "3.12.2"
  }
 },
 "nbformat": 4,
 "nbformat_minor": 5
}
